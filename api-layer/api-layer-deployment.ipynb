{
 "cells": [
  {
   "cell_type": "code",
   "execution_count": 1,
   "id": "4498ca77-1348-40ee-a289-3370d2944bca",
   "metadata": {
    "tags": []
   },
   "outputs": [
    {
     "name": "stdout",
     "output_type": "stream",
     "text": [
      "Writing daemon.json\n"
     ]
    }
   ],
   "source": [
    "%%writefile daemon.json\n",
    "{\n",
    "    \"runtimes\": {\n",
    "        \"nvidia\": {\n",
    "            \"path\": \"nvidia-container-runtime\",\n",
    "            \"runtimeArgs\": []\n",
    "        }\n",
    "    },\n",
    "    \"data-root\": \"/home/ec2-user/SageMaker/docker\"\n",
    "}"
   ]
  },
  {
   "cell_type": "code",
   "execution_count": 2,
   "id": "33480822-7bb0-4f68-bb11-6f414a0ea9a3",
   "metadata": {
    "tags": []
   },
   "outputs": [
    {
     "name": "stderr",
     "output_type": "stream",
     "text": [
      "Warning: Stopping docker.service, but it can still be activated by:\n",
      "  docker.socket\n"
     ]
    }
   ],
   "source": [
    "%%bash\n",
    "sudo systemctl stop docker\n",
    "sudo cp daemon.json /etc/docker/daemon.json\n",
    "sudo cp -rp /var/lib/docker /home/ec2-user/SageMaker/docker\n",
    "sudo systemctl start docker"
   ]
  },
  {
   "cell_type": "code",
   "execution_count": 43,
   "id": "ec02bcdf-6dc4-412c-91d1-b6e2edc0907b",
   "metadata": {
    "tags": []
   },
   "outputs": [
    {
     "name": "stdout",
     "output_type": "stream",
     "text": [
      "sha256:e50c8555c34747667c12700e368a64d2f127f0631592b98849df773df285b50c\n"
     ]
    }
   ],
   "source": [
    "!docker build --quiet --tag api-layer:latest ."
   ]
  },
  {
   "cell_type": "code",
   "execution_count": 35,
   "id": "d71e2f56-58cc-44a1-9a8a-cc2a09b5d4f9",
   "metadata": {},
   "outputs": [
    {
     "name": "stdout",
     "output_type": "stream",
     "text": [
      "7ac490de66723e02a06bf48a15ac1c64ea3df8fb5b386722ad2fbd00c0e1c854\n"
     ]
    }
   ],
   "source": [
    "!docker run --name test-api-layer -d -p 8001:8001 -e AWS_REGION=us-west-2 -e AWS_DEFAULT_REGION=us-west-2 api-layer:latest --host 0.0.0.0 --port 8001 --table-name api-layer-ddb"
   ]
  },
  {
   "cell_type": "code",
   "execution_count": 3,
   "id": "b6bba167-73f0-42da-a9ae-b82804510832",
   "metadata": {},
   "outputs": [
    {
     "name": "stdout",
     "output_type": "stream",
     "text": [
      "NAME        DESCRIPTION                               DOCKER ENDPOINT               KUBERNETES ENDPOINT   ORCHESTRATOR\n",
      "default *   Current DOCKER_HOST based configuration   unix:///var/run/docker.sock                         swarm\n"
     ]
    }
   ],
   "source": [
    "!docker context ls"
   ]
  },
  {
   "cell_type": "code",
   "execution_count": 48,
   "id": "06916b54-d89a-425f-a642-94d5f3329a7f",
   "metadata": {},
   "outputs": [],
   "source": [
    "host_ip = \"internal-api-layer-internal-1190385235.us-west-2.elb.amazonaws.com\"#\"0.0.0.0\""
   ]
  },
  {
   "cell_type": "code",
   "execution_count": 49,
   "id": "062ab6bf-4de5-4d5c-baa1-7dc5dc9f41c7",
   "metadata": {},
   "outputs": [
    {
     "name": "stderr",
     "output_type": "stream",
     "text": [
      "  % Total    % Received % Xferd  Average Speed   Time    Time     Time  Current\n",
      "                                 Dload  Upload   Total   Spent    Left  Speed\n",
      "100  1156  100  1156    0     0  21222      0 --:--:-- --:--:-- --:--:-- 21407\n"
     ]
    },
    {
     "name": "stdout",
     "output_type": "stream",
     "text": [
      "{\"models\":[{\"model_type\":\"Claude\",\"model_name\":\"anthropic.claude-instant-v1\",\"model_family\":\"bedrock\",\"streaming\":true},{\"model_type\":\"Claude\",\"model_name\":\"anthropic.claude-v1\",\"model_family\":\"bedrock\",\"streaming\":true},{\"model_type\":\"Claude\",\"model_name\":\"anthropic.claude-v2\",\"model_family\":\"bedrock\",\"streaming\":true},{\"model_type\":\"Titan\",\"model_name\":\"amazon.titan-tg1-large\",\"model_family\":\"bedrock\",\"streaming\":true},{\"model_type\":\"Jurassic\",\"model_name\":\"ai21.j2-grande-instruct\",\"model_family\":\"bedrock\",\"streaming\":false},{\"model_type\":\"Jurassic\",\"model_name\":\"ai21.j2-jumbo-instruct\",\"model_family\":\"bedrock\",\"streaming\":false},{\"model_type\":\"Jurassic\",\"model_name\":\"ai21.j2-mid\",\"model_family\":\"bedrock\",\"streaming\":false},{\"model_type\":\"Jurassic\",\"model_name\":\"ai21.j2-mid-v1\",\"model_family\":\"bedrock\",\"streaming\":false},{\"model_type\":\"Jurassic\",\"model_name\":\"ai21.j2-ultra-v1\",\"model_family\":\"bedrock\",\"streaming\":false},{\"model_type\":\"Cohere\",\"model_name\":\"cohere.command-text-v14\",\"model_family\":\"bedrock\",\"streaming\":true},{\"model_type\":\"Llama\",\"model_name\":\"tgi.Llama-2-7b-chat-hf-endpoint\",\"model_family\":\"sagemaker\",\"streaming\":true}]}"
     ]
    }
   ],
   "source": [
    "%%bash -s $host_ip\n",
    "curl ${1}:8001/list_models"
   ]
  },
  {
   "cell_type": "code",
   "execution_count": 51,
   "id": "1d4b0f22-8bec-439f-86f2-bf606a97b30d",
   "metadata": {
    "tags": []
   },
   "outputs": [
    {
     "name": "stderr",
     "output_type": "stream",
     "text": [
      "  % Total    % Received % Xferd  Average Speed   Time    Time     Time  Current\n",
      "                                 Dload  Upload   Total   Spent    Left  Speed\n",
      "100   824  100   684  100   140    260     53  0:00:02  0:00:02 --:--:--   313\n"
     ]
    },
    {
     "name": "stdout",
     "output_type": "stream",
     "text": [
      "{\"generated_text\":\"\\nNew Zealand! The new Zeeland!\\nA place for new beginnings,\\nA chance to start over,\\nIn a new land, with new opportunities,\\nA place to escape to,\\nA place to rediscover yourself,\\nA place to call your own.\\n\\nIt's a place where nature reigns,\\nWhere you can walk in the wilderness,\\nAnd listen as the waves crash against the shore,\\nWhere the sun shines brightly on a clear day,\\nAnd the moon illuminates the night sky,\\nWhere the air is clean and crisp,\\nAnd the water is pure and refreshing.\\n\\nNew Zealand! The new Zeeland!\\nA place where dreams can come true,\\nA place to discover your destiny,\\nA place to call home.\",\"finish_reason\":{\"reason\":\"endoftext\"}}"
     ]
    }
   ],
   "source": [
    "%%bash -s $host_ip\n",
    "curl -X POST ${1}:8001/invoke -d '{\"body\":{\"prompt\": \"Human: Hello, write a poem about New Zealand\\nAssistant:\"}, \"model_family\": \"bedrock\", \"model_name\": \"ai21.j2-ultra-v1\"}'"
   ]
  },
  {
   "cell_type": "code",
   "execution_count": 52,
   "id": "232ba91a-5152-456e-a41e-b9c368f52553",
   "metadata": {
    "tags": []
   },
   "outputs": [
    {
     "name": "stderr",
     "output_type": "stream",
     "text": [
      "  % Total    % Received % Xferd  Average Speed   Time    Time     Time  Current\n",
      "                                 Dload  Upload   Total   Spent    Left  Speed\n",
      "100  1788    0  1645  100   143    161     14  0:00:10  0:00:10 --:--:--   104\n"
     ]
    },
    {
     "name": "stdout",
     "output_type": "stream",
     "text": [
      "{\"generated_text\": \" Here\", \"finish_reason\": null}\n",
      "{\"generated_text\": \" is a poem about New Zealand:\\n\\nOde to\", \"finish_reason\": null}\n",
      "{\"generated_text\": \" New Zealand\\n\\nLand of mountains, fjords and plains\\nIsl\", \"finish_reason\": null}\n",
      "{\"generated_text\": \"ands scattered, coasts with\", \"finish_reason\": null}\n",
      "{\"generated_text\": \" crashing waves\\nForests thick with\", \"finish_reason\": null}\n",
      "{\"generated_text\": \" native trees\\nBirdsong drifting\", \"finish_reason\": null}\n",
      "{\"generated_text\": \" on the breeze\\n\\nSheep dot rolling\", \"finish_reason\": null}\n",
      "{\"generated_text\": \" emerald hills \\nVine\", \"finish_reason\": null}\n",
      "{\"generated_text\": \"yards stretch across the land\\nGlaciers carve\", \"finish_reason\": null}\n",
      "{\"generated_text\": \" valleys, rivers flow\\nMisty\", \"finish_reason\": null}\n",
      "{\"generated_text\": \" rainforests down below\\n\\nMaori culture, history alive\", \"finish_reason\": null}\n",
      "{\"generated_text\": \"\\nKiwi spirit,\", \"finish_reason\": null}\n",
      "{\"generated_text\": \" adventure thrives \\nRugby\", \"finish_reason\": null}\n",
      "{\"generated_text\": \", sailing, trails to roam\", \"finish_reason\": null}\n",
      "{\"generated_text\": \"\\nNew Zealand, island nation home\\n\\nA place\", \"finish_reason\": null}\n",
      "{\"generated_text\": \" of beauty, culture,\", \"finish_reason\": null}\n",
      "{\"generated_text\": \" pride\", \"finish_reason\": null}\n",
      "{\"generated_text\": \"\\nSouth\", \"finish_reason\": null}\n",
      "{\"generated_text\": \" Pacific\", \"finish_reason\": null}\n",
      "{\"generated_text\": \" gem, ocean-side\\nFrom\", \"finish_reason\": null}\n",
      "{\"generated_text\": \" the Southern Alps to beaches grand\", \"finish_reason\": null}\n",
      "{\"generated_text\": \"\\nNew Zealand, stunning island land.\", \"finish_reason\": \"stop_sequence\"}\n"
     ]
    }
   ],
   "source": [
    "%%bash -s $host_ip\n",
    "curl -X POST ${1}:8001/invoke_stream -d '{\"body\":{\"prompt\": \"Human: Hello, write a poem about New Zealand\\nAssistant:\"}, \"model_family\": \"bedrock\", \"model_name\": \"anthropic.claude-v2\"}'"
   ]
  },
  {
   "cell_type": "code",
   "execution_count": 37,
   "id": "7c035fb0-e005-40ae-9d9f-16fc3bd78f44",
   "metadata": {
    "tags": []
   },
   "outputs": [
    {
     "name": "stdout",
     "output_type": "stream",
     "text": [
      "INFO:     Started server process [1]\n",
      "INFO:     Waiting for application startup.\n",
      "INFO:     Application startup complete.\n",
      "INFO:     Uvicorn running on http://0.0.0.0:8001 (Press CTRL+C to quit)\n",
      "api-layer-ddb\n",
      "INFO:     172.17.0.1:52678 - \"GET /list_models HTTP/1.1\" 200 OK\n"
     ]
    }
   ],
   "source": [
    "!docker logs test-api-layer"
   ]
  },
  {
   "cell_type": "code",
   "execution_count": 44,
   "id": "303fb322-8767-4fa8-8d8e-1660226c2e5e",
   "metadata": {
    "tags": []
   },
   "outputs": [
    {
     "name": "stdout",
     "output_type": "stream",
     "text": [
      "Error response from daemon: Cannot kill container: test-api-layer: No such container: test-api-layer\n"
     ]
    }
   ],
   "source": [
    "!docker kill test-api-layer && docker rm test-api-layer"
   ]
  },
  {
   "cell_type": "code",
   "execution_count": 45,
   "id": "a4497d7b-965b-489e-bc1a-02085c3a1359",
   "metadata": {
    "tags": []
   },
   "outputs": [
    {
     "name": "stdout",
     "output_type": "stream",
     "text": [
      "WARNING! Your password will be stored unencrypted in /home/ec2-user/.docker/config.json.\n",
      "Configure a credential helper to remove this warning. See\n",
      "https://docs.docker.com/engine/reference/commandline/login/#credentials-store\n",
      "\n",
      "Login Succeeded\n"
     ]
    }
   ],
   "source": [
    "!aws ecr get-login-password --region us-west-2 | docker login --username AWS --password-stdin 705484421587.dkr.ecr.us-west-2.amazonaws.com"
   ]
  },
  {
   "cell_type": "code",
   "execution_count": 46,
   "id": "8cb52434-fb4c-43d6-9105-1f8013d89ec0",
   "metadata": {
    "tags": []
   },
   "outputs": [],
   "source": [
    "!docker tag api-layer:latest 705484421587.dkr.ecr.us-west-2.amazonaws.com/api-layer:latest"
   ]
  },
  {
   "cell_type": "code",
   "execution_count": 47,
   "id": "d95b84cc-e38b-43a2-912d-51831aedd295",
   "metadata": {
    "tags": []
   },
   "outputs": [
    {
     "name": "stdout",
     "output_type": "stream",
     "text": [
      "The push refers to repository [705484421587.dkr.ecr.us-west-2.amazonaws.com/api-layer]\n",
      "\n",
      "\u001b[1Bd2e01d21: Preparing \n",
      "\u001b[1Be5b7ac0c: Preparing \n",
      "\u001b[1Bf0b21a82: Preparing \n",
      "\u001b[1Bf9eb716b: Preparing \n",
      "\u001b[1Bffbeec5d: Preparing \n",
      "\u001b[1B7097618f: Preparing \n",
      "\u001b[1Bab009408: Preparing \n",
      "\u001b[1Bec988e2a: Preparing \n",
      "\u001b[1Bfd493130: Preparing \n",
      "\u001b[9Be5b7ac0c: Pushed   87.36MB/85.2MBB\u001b[9A\u001b[2K\u001b[6A\u001b[2K\u001b[7A\u001b[2K\u001b[10A\u001b[2K\u001b[3A\u001b[2K\u001b[9A\u001b[2K\u001b[6A\u001b[2K\u001b[9A\u001b[2K\u001b[6A\u001b[2K\u001b[6A\u001b[2K\u001b[6A\u001b[2K\u001b[9A\u001b[2K\u001b[6A\u001b[2K\u001b[9A\u001b[2K\u001b[6A\u001b[2K\u001b[9A\u001b[2K\u001b[6A\u001b[2K\u001b[9A\u001b[2K\u001b[6A\u001b[2K\u001b[9A\u001b[2K\u001b[9A\u001b[2K\u001b[9A\u001b[2K\u001b[9A\u001b[2K\u001b[9A\u001b[2K\u001b[9A\u001b[2K\u001b[9A\u001b[2K\u001b[6A\u001b[2K\u001b[9A\u001b[2K\u001b[9A\u001b[2K\u001b[9A\u001b[2K\u001b[9A\u001b[2K\u001b[9A\u001b[2K\u001b[9A\u001b[2K\u001b[9A\u001b[2Klatest: digest: sha256:0d1db56fb488267413b4e39a6802b7c8d103f80501814b88b75886f22a5c0223 size: 2416\n"
     ]
    }
   ],
   "source": [
    "!docker push 705484421587.dkr.ecr.us-west-2.amazonaws.com/api-layer:latest"
   ]
  },
  {
   "cell_type": "code",
   "execution_count": 41,
   "id": "0e625f1d-744f-4d38-b209-8c05f5f25932",
   "metadata": {},
   "outputs": [
    {
     "name": "stdout",
     "output_type": "stream",
     "text": [
      "REPOSITORY                                               TAG         IMAGE ID       CREATED        SIZE\n",
      "api-layer                                                latest      45b20bbe7f99   22 hours ago   237MB\n",
      "705484421587.dkr.ecr.us-west-2.amazonaws.com/api-layer   latest      45b20bbe7f99   22 hours ago   237MB\n",
      "python                                                   3.10-slim   b477fabe1167   2 weeks ago    128MB\n"
     ]
    }
   ],
   "source": [
    "!docker images"
   ]
  },
  {
   "cell_type": "code",
   "execution_count": 42,
   "id": "1a544078-834c-48eb-87db-6df077d5e3ba",
   "metadata": {
    "tags": []
   },
   "outputs": [
    {
     "name": "stdout",
     "output_type": "stream",
     "text": [
      "Untagged: 705484421587.dkr.ecr.us-west-2.amazonaws.com/api-layer:latest\n",
      "Untagged: 705484421587.dkr.ecr.us-west-2.amazonaws.com/api-layer@sha256:41882f490df0621237c4c85434924c324ebc6df13ba8e6e3a6fed0ab6d5cfd09\n",
      "Untagged: api-layer:latest\n",
      "Deleted: sha256:45b20bbe7f997130799f6f89962025ac000eeee184c7ddc51908d024d25cbf3f\n",
      "Deleted: sha256:db8f29a137c3b79f0db7385918acecedf7744b80f9ed5ff90cb43feaabaf7e86\n",
      "Deleted: sha256:cae76ac263ee1a70bea244bb08846371b801ca3ef786690a307ce060d806aaca\n",
      "Deleted: sha256:eb737ce9e358434f548da99019981b4a27d15998c59d5e69f908effe2bf7bc71\n",
      "Deleted: sha256:0af1d311ada067060e13ebff330fe478012a481b2a5696c891ca31c1b25d7f33\n",
      "Deleted: sha256:e738e6d4e3c5f7efe71f2d24bd6d32458936fc328fa2684176abf0e8d6844c78\n",
      "Deleted: sha256:45f6b73122b7b865810d8a17c5ab4ab005c56a1384509ee0302e37b4dadb1318\n",
      "Deleted: sha256:8ff175b6d237424c023bb9117a7dcfb988fb623794e6e16a4d0875fe691b5bae\n",
      "Deleted: sha256:5dac540975de9ae8a90f81b14e0aae8faf3ec5a2c4c645d020e2620ee76d6f46\n",
      "Deleted: sha256:7b43a65cfb51739bfe38d794017d347720bfdc52178bef7fb7c0a25963f62b35\n",
      "Deleted: sha256:214414c8c5782906cf743847abf26e8776d054d6ecf72a0a8b8227004410a15a\n"
     ]
    }
   ],
   "source": [
    "! docker rmi -f 45"
   ]
  }
 ],
 "metadata": {
  "kernelspec": {
   "display_name": "conda_python3",
   "language": "python",
   "name": "conda_python3"
  },
  "language_info": {
   "codemirror_mode": {
    "name": "ipython",
    "version": 3
   },
   "file_extension": ".py",
   "mimetype": "text/x-python",
   "name": "python",
   "nbconvert_exporter": "python",
   "pygments_lexer": "ipython3",
   "version": "3.10.12"
  }
 },
 "nbformat": 4,
 "nbformat_minor": 5
}
