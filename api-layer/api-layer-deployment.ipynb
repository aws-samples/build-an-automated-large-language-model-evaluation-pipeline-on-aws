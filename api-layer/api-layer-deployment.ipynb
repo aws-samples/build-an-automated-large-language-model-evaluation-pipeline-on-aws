{
 "cells": [
  {
   "cell_type": "code",
   "execution_count": 1,
   "id": "4498ca77-1348-40ee-a289-3370d2944bca",
   "metadata": {
    "tags": []
   },
   "outputs": [
    {
     "name": "stdout",
     "output_type": "stream",
     "text": [
      "Writing daemon.json\n"
     ]
    }
   ],
   "source": [
    "%%writefile daemon.json\n",
    "{\n",
    "    \"runtimes\": {\n",
    "        \"nvidia\": {\n",
    "            \"path\": \"nvidia-container-runtime\",\n",
    "            \"runtimeArgs\": []\n",
    "        }\n",
    "    },\n",
    "    \"data-root\": \"/home/ec2-user/SageMaker/docker\"\n",
    "}"
   ]
  },
  {
   "cell_type": "code",
   "execution_count": 2,
   "id": "33480822-7bb0-4f68-bb11-6f414a0ea9a3",
   "metadata": {
    "tags": []
   },
   "outputs": [
    {
     "name": "stderr",
     "output_type": "stream",
     "text": [
      "Warning: Stopping docker.service, but it can still be activated by:\n",
      "  docker.socket\n"
     ]
    }
   ],
   "source": [
    "%%bash\n",
    "sudo systemctl stop docker\n",
    "sudo cp daemon.json /etc/docker/daemon.json\n",
    "sudo cp -rp /var/lib/docker /home/ec2-user/SageMaker/docker\n",
    "sudo systemctl start docker"
   ]
  },
  {
   "cell_type": "code",
   "execution_count": 34,
   "id": "ec02bcdf-6dc4-412c-91d1-b6e2edc0907b",
   "metadata": {
    "tags": []
   },
   "outputs": [
    {
     "name": "stdout",
     "output_type": "stream",
     "text": [
      "sha256:7a5dfc98d5bbfecdb3881f46d37c81aecdff35c99b83a89f53f05215f8b36314\n"
     ]
    }
   ],
   "source": [
    "!docker build --quiet --tag api-layer:latest ."
   ]
  },
  {
   "cell_type": "code",
   "execution_count": 35,
   "id": "d71e2f56-58cc-44a1-9a8a-cc2a09b5d4f9",
   "metadata": {},
   "outputs": [
    {
     "name": "stdout",
     "output_type": "stream",
     "text": [
      "7ac490de66723e02a06bf48a15ac1c64ea3df8fb5b386722ad2fbd00c0e1c854\n"
     ]
    }
   ],
   "source": [
    "!docker run --name test-api-layer -d -p 8001:8001 -e AWS_REGION=us-west-2 -e AWS_DEFAULT_REGION=us-west-2 api-layer:latest --host 0.0.0.0 --port 8001 --table-name api-layer-ddb"
   ]
  },
  {
   "cell_type": "code",
   "execution_count": 3,
   "id": "b6bba167-73f0-42da-a9ae-b82804510832",
   "metadata": {},
   "outputs": [
    {
     "name": "stdout",
     "output_type": "stream",
     "text": [
      "NAME        DESCRIPTION                               DOCKER ENDPOINT               KUBERNETES ENDPOINT   ORCHESTRATOR\n",
      "default *   Current DOCKER_HOST based configuration   unix:///var/run/docker.sock                         swarm\n"
     ]
    }
   ],
   "source": [
    "!docker context ls"
   ]
  },
  {
   "cell_type": "code",
   "execution_count": 4,
   "id": "06916b54-d89a-425f-a642-94d5f3329a7f",
   "metadata": {},
   "outputs": [],
   "source": [
    "host_ip = \"0.0.0.0\""
   ]
  },
  {
   "cell_type": "code",
   "execution_count": 36,
   "id": "062ab6bf-4de5-4d5c-baa1-7dc5dc9f41c7",
   "metadata": {},
   "outputs": [
    {
     "name": "stderr",
     "output_type": "stream",
     "text": [
      "  % Total    % Received % Xferd  Average Speed   Time    Time     Time  Current\n",
      "                                 Dload  Upload   Total   Spent    Left  Speed\n",
      "100  1156  100  1156    0     0  16542      0 --:--:-- --:--:-- --:--:-- 16753\n"
     ]
    },
    {
     "name": "stdout",
     "output_type": "stream",
     "text": [
      "{\"models\":[{\"model_type\":\"Claude\",\"model_name\":\"anthropic.claude-instant-v1\",\"model_family\":\"bedrock\",\"streaming\":true},{\"model_type\":\"Claude\",\"model_name\":\"anthropic.claude-v1\",\"model_family\":\"bedrock\",\"streaming\":true},{\"model_type\":\"Claude\",\"model_name\":\"anthropic.claude-v2\",\"model_family\":\"bedrock\",\"streaming\":true},{\"model_type\":\"Titan\",\"model_name\":\"amazon.titan-tg1-large\",\"model_family\":\"bedrock\",\"streaming\":true},{\"model_type\":\"Jurassic\",\"model_name\":\"ai21.j2-grande-instruct\",\"model_family\":\"bedrock\",\"streaming\":false},{\"model_type\":\"Jurassic\",\"model_name\":\"ai21.j2-jumbo-instruct\",\"model_family\":\"bedrock\",\"streaming\":false},{\"model_type\":\"Jurassic\",\"model_name\":\"ai21.j2-mid\",\"model_family\":\"bedrock\",\"streaming\":false},{\"model_type\":\"Jurassic\",\"model_name\":\"ai21.j2-mid-v1\",\"model_family\":\"bedrock\",\"streaming\":false},{\"model_type\":\"Jurassic\",\"model_name\":\"ai21.j2-ultra-v1\",\"model_family\":\"bedrock\",\"streaming\":false},{\"model_type\":\"Cohere\",\"model_name\":\"cohere.command-text-v14\",\"model_family\":\"bedrock\",\"streaming\":true},{\"model_type\":\"Llama\",\"model_name\":\"tgi.Llama-2-7b-chat-hf-endpoint\",\"model_family\":\"sagemaker\",\"streaming\":true}]}"
     ]
    }
   ],
   "source": [
    "%%bash -s $host_ip\n",
    "curl ${1}:8001/list_models"
   ]
  },
  {
   "cell_type": "code",
   "execution_count": 37,
   "id": "7c035fb0-e005-40ae-9d9f-16fc3bd78f44",
   "metadata": {
    "tags": []
   },
   "outputs": [
    {
     "name": "stdout",
     "output_type": "stream",
     "text": [
      "INFO:     Started server process [1]\n",
      "INFO:     Waiting for application startup.\n",
      "INFO:     Application startup complete.\n",
      "INFO:     Uvicorn running on http://0.0.0.0:8001 (Press CTRL+C to quit)\n",
      "api-layer-ddb\n",
      "INFO:     172.17.0.1:52678 - \"GET /list_models HTTP/1.1\" 200 OK\n"
     ]
    }
   ],
   "source": [
    "!docker logs test-api-layer"
   ]
  },
  {
   "cell_type": "code",
   "execution_count": 33,
   "id": "303fb322-8767-4fa8-8d8e-1660226c2e5e",
   "metadata": {
    "tags": []
   },
   "outputs": [
    {
     "name": "stdout",
     "output_type": "stream",
     "text": [
      "test-api-layer\n",
      "test-api-layer\n"
     ]
    }
   ],
   "source": [
    "!docker kill test-api-layer && docker rm test-api-layer"
   ]
  },
  {
   "cell_type": "code",
   "execution_count": 38,
   "id": "a4497d7b-965b-489e-bc1a-02085c3a1359",
   "metadata": {
    "tags": []
   },
   "outputs": [
    {
     "name": "stdout",
     "output_type": "stream",
     "text": [
      "WARNING! Your password will be stored unencrypted in /home/ec2-user/.docker/config.json.\n",
      "Configure a credential helper to remove this warning. See\n",
      "https://docs.docker.com/engine/reference/commandline/login/#credentials-store\n",
      "\n",
      "Login Succeeded\n"
     ]
    }
   ],
   "source": [
    "!aws ecr get-login-password --region us-west-2 | docker login --username AWS --password-stdin 705484421587.dkr.ecr.us-west-2.amazonaws.com"
   ]
  },
  {
   "cell_type": "code",
   "execution_count": 39,
   "id": "8cb52434-fb4c-43d6-9105-1f8013d89ec0",
   "metadata": {
    "tags": []
   },
   "outputs": [],
   "source": [
    "!docker tag api-layer:latest 705484421587.dkr.ecr.us-west-2.amazonaws.com/api-layer:latest"
   ]
  },
  {
   "cell_type": "code",
   "execution_count": 40,
   "id": "d95b84cc-e38b-43a2-912d-51831aedd295",
   "metadata": {
    "tags": []
   },
   "outputs": [
    {
     "name": "stdout",
     "output_type": "stream",
     "text": [
      "The push refers to repository [705484421587.dkr.ecr.us-west-2.amazonaws.com/api-layer]\n",
      "\n",
      "\u001b[1Baffa9286: Preparing \n",
      "\u001b[1B8c8dc9cc: Preparing \n",
      "\u001b[1B57095779: Preparing \n",
      "\u001b[1Bebb9bed6: Preparing \n",
      "\u001b[1B039d7570: Preparing \n",
      "\u001b[1B7097618f: Preparing \n",
      "\u001b[1Bab009408: Preparing \n",
      "\u001b[1Bec988e2a: Preparing \n",
      "\u001b[1Bfd493130: Preparing \n",
      "\u001b[1B96cc1454: Pushed   77.87MB/74.82MB\u001b[6A\u001b[2K\u001b[9A\u001b[2K\u001b[6A\u001b[2K\u001b[9A\u001b[2K\u001b[7A\u001b[2K\u001b[9A\u001b[2K\u001b[6A\u001b[2K\u001b[9A\u001b[2K\u001b[5A\u001b[2K\u001b[9A\u001b[2K\u001b[5A\u001b[2K\u001b[9A\u001b[2K\u001b[5A\u001b[2K\u001b[9A\u001b[2K\u001b[5A\u001b[2K\u001b[9A\u001b[2K\u001b[5A\u001b[2K\u001b[9A\u001b[2K\u001b[4A\u001b[2K\u001b[3A\u001b[2K\u001b[9A\u001b[2K\u001b[6A\u001b[2K\u001b[9A\u001b[2K\u001b[6A\u001b[2K\u001b[9A\u001b[2K\u001b[6A\u001b[2K\u001b[3A\u001b[2K\u001b[2A\u001b[2K\u001b[3A\u001b[2K\u001b[3A\u001b[2K\u001b[2A\u001b[2K\u001b[3A\u001b[2K\u001b[9A\u001b[2K\u001b[2A\u001b[2K\u001b[9A\u001b[2K\u001b[1A\u001b[2K\u001b[9A\u001b[2K\u001b[1A\u001b[2K\u001b[9A\u001b[2K\u001b[1A\u001b[2K\u001b[3A\u001b[2K\u001b[1A\u001b[2K\u001b[3A\u001b[2K\u001b[2A\u001b[2K\u001b[9A\u001b[2K\u001b[9A\u001b[2K\u001b[9A\u001b[2K\u001b[9A\u001b[2K\u001b[9A\u001b[2K\u001b[1A\u001b[2K\u001b[9A\u001b[2K\u001b[1A\u001b[2K\u001b[1A\u001b[2K\u001b[1A\u001b[2K\u001b[1A\u001b[2K\u001b[1A\u001b[2K\u001b[3A\u001b[2K\u001b[1A\u001b[2K\u001b[1A\u001b[2K\u001b[1A\u001b[2K\u001b[1A\u001b[2K\u001b[1A\u001b[2K\u001b[1A\u001b[2K\u001b[1A\u001b[2K\u001b[1A\u001b[2K\u001b[1A\u001b[2K\u001b[1A\u001b[2K\u001b[1A\u001b[2K\u001b[1A\u001b[2K\u001b[1A\u001b[2K\u001b[1A\u001b[2K\u001b[1A\u001b[2K\u001b[1A\u001b[2K\u001b[1A\u001b[2K\u001b[1A\u001b[2K\u001b[1A\u001b[2Klatest: digest: sha256:7588fb8f22cea879da3f5793ed98d3e4a285edcda8b0cc553d2678090197f7f0 size: 2416\n"
     ]
    }
   ],
   "source": [
    "!docker push 705484421587.dkr.ecr.us-west-2.amazonaws.com/api-layer:latest"
   ]
  },
  {
   "cell_type": "code",
   "execution_count": null,
   "id": "0e625f1d-744f-4d38-b209-8c05f5f25932",
   "metadata": {},
   "outputs": [],
   "source": []
  }
 ],
 "metadata": {
  "kernelspec": {
   "display_name": "conda_python3",
   "language": "python",
   "name": "conda_python3"
  },
  "language_info": {
   "codemirror_mode": {
    "name": "ipython",
    "version": 3
   },
   "file_extension": ".py",
   "mimetype": "text/x-python",
   "name": "python",
   "nbconvert_exporter": "python",
   "pygments_lexer": "ipython3",
   "version": "3.10.12"
  }
 },
 "nbformat": 4,
 "nbformat_minor": 5
}
