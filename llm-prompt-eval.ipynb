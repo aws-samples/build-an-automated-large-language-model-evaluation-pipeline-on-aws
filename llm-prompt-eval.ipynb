{
 "cells": [
  {
   "cell_type": "markdown",
   "id": "3ca87e3d-5679-4a9d-b01a-27c089795c29",
   "metadata": {},
   "source": [
    "# Large Language Model Evaluation pipeline\n",
    "\n",
    "### Background\n",
    "One of the key challenge for our customers when evaluating open source models is the cost of hosting the model during experiment stage. As our customers are doing manual test, the resources are not fully ustilised and there are a lot of repeating when evaluating different LLMs.\n",
    "\n",
    "The customer journey at the moment is like, they may have a list of questions, and they want to test different prompt template (different LLMs respond differently to the prompt templates), they may need to do a batch invocation against the endpoint, do some manually check, then change the template, invoke again and check. This is tedious and not scalable.\n",
    "\n",
    "There are also different evaluation mechanisms that are used in LLM evaluation as shown in the below diagram. To evaluation the LLMs and prompt template against different evaluation approach needs to be standardized and automated to improve efficiency and reduce cost.\n",
    "\n",
    "![Eval pipeline](./Assets/eval-metrics.png)\n",
    "\n",
    "### Overview of the proposed auto-eval pipeline for LLMs\n",
    "In this proposed solution, customer can use the evaluation pipeline and launch a temporary endpoint or use the API based LLM service, ran the test set against the endpoint/API service. Then launch another LLM or use another API LLM service (for evaluation purpose), they can then select the evaluation metrics from the metric factory. For example, as a sanity check, we validate the outputs of the target test LLM can be directly derived based on the input context. In this way, we are converting the LLM evaluation into a classification problem to ask the eval LLM to answer 'yes' or 'no'. This is the similar process that human evaluator will perform. If the evaluation metrics fall into the traditional ML evaluation metrics, such as the cosine similarity, we can also calculate this value using the corresponding lambda function. Once the evaluation is done, users will get a list of inputs, outputs and evaluation results, they can easily compare different LLMs, prompt templates and the combination of the two. This will significantly save customer’s cost and time during evaluation stage."
   ]
  },
  {
   "cell_type": "markdown",
   "id": "3d388cdf-45f5-45da-b87d-3f8ad6858729",
   "metadata": {},
   "source": [
    "## Architecture\n",
    "Below is an architecture diagram of the proposed LLM auto-eval pipeline. In this note book, we are implementing each function in different notebook cells and are working towards implementing each component into a dedicated AWS services, or we can call them micro-services for reusability and scalability.\n",
    "\n",
    "![Eval metrics](./Assets/eval-prompt-ops.png)"
   ]
  },
  {
   "cell_type": "markdown",
   "id": "912db442-64c2-4d64-8735-65c37cf83fbd",
   "metadata": {},
   "source": [
    "## Updating AWS Python SDK"
   ]
  },
  {
   "cell_type": "code",
   "execution_count": 5,
   "id": "8b0224f8-0062-40ac-be09-8ef4a5665a2b",
   "metadata": {
    "tags": []
   },
   "outputs": [
    {
     "name": "stdout",
     "output_type": "stream",
     "text": [
      "\u001b[33mDEPRECATION: pyodbc 4.0.0-unsupported has a non-standard version number. pip 23.3 will enforce this behaviour change. A possible replacement is to upgrade to a newer version of pyodbc or contact the author to suggest that they release a version with a conforming version number. Discussion can be found at https://github.com/pypa/pip/issues/12063\u001b[0m\u001b[33m\n",
      "\u001b[0m\u001b[31mERROR: pip's dependency resolver does not currently take into account all the packages that are installed. This behaviour is the source of the following dependency conflicts.\n",
      "aiobotocore 2.4.2 requires botocore<1.27.60,>=1.27.59, but you have botocore 1.31.61 which is incompatible.\n",
      "awscli 1.29.26 requires botocore==1.31.26, but you have botocore 1.31.61 which is incompatible.\n",
      "awscli 1.29.26 requires rsa<4.8,>=3.1.2, but you have rsa 4.9 which is incompatible.\n",
      "awscli 1.29.26 requires s3transfer<0.7.0,>=0.6.0, but you have s3transfer 0.7.0 which is incompatible.\u001b[0m\u001b[31m\n",
      "\u001b[0m\u001b[33mWARNING: Running pip as the 'root' user can result in broken permissions and conflicting behaviour with the system package manager. It is recommended to use a virtual environment instead: https://pip.pypa.io/warnings/venv\u001b[0m\u001b[33m\n",
      "\u001b[0m"
     ]
    }
   ],
   "source": [
    "!pip install botocore boto3 jsonpath_ng --upgrade --quiet"
   ]
  },
  {
   "cell_type": "markdown",
   "id": "4102a663-6309-4676-b934-cc98c7665fa7",
   "metadata": {
    "tags": []
   },
   "source": [
    "## Setting up SageMaker \n",
    "\n",
    "Only run the below cells if you are going to test the open-source models that are hosted on SageMaker. If you are going to evaluate the API based LLM services, such as models provided by bedrock, you can skip the below cells."
   ]
  },
  {
   "cell_type": "code",
   "execution_count": 7,
   "id": "644a10be-f0e5-4e6e-bcfc-3677530d013a",
   "metadata": {
    "tags": []
   },
   "outputs": [
    {
     "name": "stderr",
     "output_type": "stream",
     "text": [
      "Using already existing model: tiiuae-falcon-7b-instruct\n"
     ]
    },
    {
     "name": "stdout",
     "output_type": "stream",
     "text": [
      "-----------------!"
     ]
    }
   ],
   "source": [
    "# from sagemaker.model import Model\n",
    "# from sagemaker import get_execution_role\n",
    "# from sagemaker.huggingface import get_huggingface_llm_image_uri\n",
    "# from sagemaker.huggingface import HuggingFaceModel\n",
    "# # retrieve the llm image uri\n",
    "# llm_image = get_huggingface_llm_image_uri(\n",
    "#   \"huggingface\",\n",
    "#   version=\"0.8.2\"\n",
    "# )\n",
    "\n",
    "# role = get_execution_role()\n",
    "# hf_model_id = \"tiiuae/falcon-7b-instruct\" # model id from huggingface.co/models\n",
    "# model_name = hf_model_id.replace(\"/\",\"-\").replace(\".\",\"-\")\n",
    "# endpoint_name = \"test-sagemaker\"\n",
    "# instance_type = \"ml.g5.2xlarge\" # instance type to use for deployment\n",
    "# number_of_gpus = 1 # number of gpus to use for inference and tensor parallelism\n",
    "# health_check_timeout = 2400 # Increase the timeout for the health check to 5 minutes for downloading the model\n",
    "\n",
    "# llm_model = HuggingFaceModel(\n",
    "#       role=role,\n",
    "#       image_uri=llm_image,\n",
    "#       env={\n",
    "#         'HF_MODEL_ID': hf_model_id,\n",
    "#         # 'HF_MODEL_QUANTIZE': \"bitsandbytes\", # comment in to quantize\n",
    "#         'SM_NUM_GPUS': f\"{number_of_gpus}\",\n",
    "#         'MAX_INPUT_LENGTH': \"3000\",  # Max length of input text\n",
    "#         'MAX_TOTAL_TOKENS': \"6000\",  # Max length of the generation (including input text)\n",
    "#       },\n",
    "#       name=model_name\n",
    "#     )\n",
    "\n",
    "# llm = llm_model.deploy(\n",
    "#   initial_instance_count=1,\n",
    "#   instance_type=instance_type,\n",
    "#   container_startup_health_check_timeout=health_check_timeout,\n",
    "#   endpoint_name=endpoint_name,\n",
    "# )"
   ]
  },
  {
   "cell_type": "code",
   "execution_count": 5,
   "id": "3e4156ce-db05-49a1-9127-7f54166a8d83",
   "metadata": {
    "tags": []
   },
   "outputs": [],
   "source": [
    "# model_family = \"sagemaker\"\n",
    "# endpoint_name = \"test-sagemaker\"\n",
    "# container_type = \"tgi\"\n",
    "# model_name = f\"{container_type}.{endpoint_name}\""
   ]
  },
  {
   "cell_type": "code",
   "execution_count": 6,
   "id": "e3ed874f-d623-4f4c-93bd-5de4dfe6e5e0",
   "metadata": {
    "tags": []
   },
   "outputs": [],
   "source": [
    "# from importlib import import_module\n",
    "# model = import_module(\"handlers.\" + model_family).model(model_name)"
   ]
  },
  {
   "cell_type": "code",
   "execution_count": 7,
   "id": "1c89d684-5f77-4db3-a2d2-a77b398fe232",
   "metadata": {
    "tags": []
   },
   "outputs": [
    {
     "data": {
      "text/plain": [
       "\" I'm an AI assistant designed to assist humans with various tasks and inquiries. How can I help\""
      ]
     },
     "execution_count": 7,
     "metadata": {},
     "output_type": "execute_result"
    }
   ],
   "source": [
    "# model.invoke({\"prompt\": \"\\n\\nHuman: Hello. Who are you?\\n\\nAssistant:\"})[\"generated_text\"]"
   ]
  },
  {
   "cell_type": "markdown",
   "id": "a001b649-2028-49b3-9390-2bb034ff3d3c",
   "metadata": {},
   "source": [
    "## Lambda function simulation"
   ]
  },
  {
   "cell_type": "markdown",
   "id": "b11843a0-794a-4fe7-aa24-179a0efc6628",
   "metadata": {},
   "source": [
    "### Batch prompt dataset\n",
    "\n",
    "We firstly prepare the test dataset, which consists of the input queries, context (this can be derived by a RAG service), and the expected output as groundtruth."
   ]
  },
  {
   "cell_type": "code",
   "execution_count": 10,
   "id": "4943f2ab-e766-4ec8-b2ef-666256a644e4",
   "metadata": {
    "tags": []
   },
   "outputs": [
    {
     "name": "stdout",
     "output_type": "stream",
     "text": [
      "Writing prompt_dataset.csv\n"
     ]
    }
   ],
   "source": [
    "%%writefile prompt_dataset.csv\n",
    "id|QUESTION|CONTEXT|Expected Answer\n",
    "1|Which regions support spot instances for training?|Managed Spot Training can be used with all instances supported in Amazon SageMaker. Managed Spot Training is supported in all AWS Regions where Amazon SageMaker is currently available.|all AWS regions\n",
    "2|Does SageMaker provide any free ML environments?|SageMaker includes the following machine learning environments:  SageMaker Canvas: An auto ML service that gives people with no coding experience the ability to build models and make predictions with them. SageMaker Studio:   An integrated machine learning environment where you can build, train, deploy, and analyze your models all in the same application. SageMaker Studio Lab: A free service that gives customers access to AWS compute resources in an environment based on open-source JupyterLab. RStudio on Amazon SageMaker: An integrated development environment for R, with a console, syntax-highlighting editor that supports direct code execution, and tools for plotting, history, debugging and workspace management.|Yes, SageMaker Studio Lab provides a free service that gives customers access to AWS compute resources in an environment based on open-source JupyterLab.\n",
    "3|What are some of the ways to access JumpStart?|SageMaker JumpStart provides pretrained, open-source models for a wide range of problem types to help you get started with machine learning. You can incrementally train and tune these models before deployment. JumpStart also provides solution templates that set up infrastructure for common use cases, and executable example notebooks for machine learning with SageMaker. You can access the pretrained models, solution templates, and examples through the JumpStart landing page in Amazon SageMaker Studio. You can also access JumpStart models using the SageMaker Python SDK.|You can access the pretrained models, solution templates, and examples through the JumpStart landing page in Amazon SageMaker Studio and the SageMaker Python SDK.\n",
    "4|Can Ground Truth help me save my labelling costs? If so, how?|To train a machine learning model, you need a large, high-quality, labeled dataset. You can label your data using Amazon SageMaker Ground Truth. Choose from one of the Ground Truth built-in task types or create your own custom labeling workflow. To improve the accuracy of your data labels and reduce the total cost of labeling your data, use Ground Truth enhanced data labeling features like automated data labeling and annotation consolidation. |Yes, Ground Truth can help you save your labelling costs by using features like automated data labelling and annotation consolidation.\n",
    "5|Which SageMaker feature can help me prepare my datasets for model training?|To analyze data and evaluate machine learning models on Amazon SageMaker, use Amazon SageMaker Processing. With Processing, you can use a simplified, managed experience on SageMaker to run your data processing workloads, such as feature engineering, data validation, model evaluation, and model interpretation. Your input data must be stored in an Amazon S3 bucket. Alternatively, you can use Amazon Athena or Amazon Redshift as input sources.|Amazon SageMaker Processing can help you analyze and process your data.\n",
    "6|Can SageMaker alert me if a model's accuracy goes down?|Amazon SageMaker Model Monitor monitors the quality of Amazon SageMaker machine learning models in production. You can set up continuous monitoring with a real-time endpoint (or a batch transform job that runs regularly), or on-schedule monitoring for asynchronous batch transform jobs. With Model Monitor, you can set alerts that notify you when there are deviations in the model quality. Model Monitor provides the following types of monitoring: Monitor drift in data quality, Monitor drift in model quality metrics, such as accuracy. Monitor bias in your model's predictions, Monitor drift in feature attribution.|Yes, Amazon SageMaker Model Monitor can alert you if a model's accuracy goes down.\n",
    "7|Who is responsible for data security?|Security is a shared responsibility between AWS and you. The shared responsibility model describes this as security of the cloud and security in the cloud: Security of the cloud – AWS is responsible for protecting the infrastructure that runs AWS services in the AWS Cloud. AWS also provides you with services that you can use securely. Security in the cloud – Your responsibility is determined by the AWS service that you use. You are also responsible for other factors including the sensitivity of your data, your company’s requirements, and applicable laws and regulations. |AWS and the customer\n",
    "8|How can I track who made a SageMaker API call?|Monitoring is an important part of maintaining the reliability, availability, and performance of SageMaker and your other AWS solutions. AWS provides the following monitoring tools: Amazon CloudWatch monitors your AWS resources and the applications that you run on AWS in real time. Amazon CloudWatch Logs enables you to monitor, store, and access your log files. AWS CloudTrail captures API calls and related events made by or on behalf of your AWS account. CloudWatch Events delivers a near real-time stream of system events that describe changes in AWS resources. |AWS CloudTrail captures API calls and related events made by or on behalf of your AWS account."
   ]
  },
  {
   "cell_type": "markdown",
   "id": "48719bd3-755b-486f-9858-94986ca35ae1",
   "metadata": {},
   "source": [
    "### Batch Prompt Generation\n",
    "\n",
    "The following section generates the output based on the selected prompt template and all the test cases."
   ]
  },
  {
   "cell_type": "code",
   "execution_count": 6,
   "id": "faed58e1-4f72-4958-aa6c-64fb1d26d03c",
   "metadata": {
    "tags": []
   },
   "outputs": [],
   "source": [
    "from prompts.store import TemplateStore\n",
    "import pandas as pd\n",
    "from typing import List, Dict\n",
    "\n",
    "prompt_template_database = TemplateStore()"
   ]
  },
  {
   "cell_type": "code",
   "execution_count": 12,
   "id": "02978104-3790-4f23-bef6-dc610982574b",
   "metadata": {
    "tags": []
   },
   "outputs": [],
   "source": [
    "from importlib import import_module\n",
    "from prompts.template import PromptTemplate\n",
    "    \n",
    "def handler(event, context):\n",
    "    model = import_module(\"handlers.\" + event[\"model_family\"]).model(event[\"model_name\"])\n",
    "    prompt = prompt_template_database.get_prompt_from_template(\n",
    "        template_id=event[\"template_id\"], \n",
    "        param_values=event[\"template_params\"]\n",
    "    )\n",
    "    return model.invoke({\"prompt\": prompt})[\"generated_text\"]\n",
    "\n",
    "if __name__==\"__main__\":\n",
    "    p_template = PromptTemplate(\n",
    "        template=\"\"\"Human: Use the following pieces of context to provide a concise answer to the question at the end. If you don't know the answer, just say that you don't know, don't try to make up an answer.\n",
    "{CONTEXT}\n",
    "\n",
    "Question: {Question_text}\n",
    "Assistant:\"\"\",\n",
    "        params=[\"CONTEXT\", \"Question_text\"]\n",
    "    )    \n",
    "    prompt_template_database.add_template(\n",
    "        template_id=\"00001\",\n",
    "        template=p_template\n",
    "    )    \n",
    "    models = [\n",
    "        {\n",
    "            \"model_family\": \"bedrock\",\n",
    "            \"model_name\": \"amazon.titan-tg1-large\"\n",
    "        },\n",
    "        {\n",
    "            \"model_family\": \"bedrock\",\n",
    "            \"model_name\": \"anthropic.claude-v2\"\n",
    "        },\n",
    "        {\n",
    "            \"model_family\": \"bedrock\",\n",
    "            \"model_name\": \"ai21.j2-mid\"\n",
    "        }\n",
    "    ]\n",
    "    dataset = pd.read_csv(\"prompt_dataset.csv\", \"|\")\n",
    "    for model in models:\n",
    "        answers = []\n",
    "        llm_name = f'{model[\"model_family\"]}~{model[\"model_name\"]}'\n",
    "        for ind in dataset.index:\n",
    "            event = {\n",
    "                \"model_family\": model[\"model_family\"],\n",
    "                \"model_name\": model[\"model_name\"],\n",
    "                \"template_id\": \"00001\",\n",
    "                \"template_params\": {\n",
    "                    \"CONTEXT\": f\"CONTEXT: {dataset['CONTEXT'][ind]}\",\n",
    "                    \"Question_text\": f\"{dataset['QUESTION'][ind]}\"\n",
    "                }\n",
    "\n",
    "            }\n",
    "            context = \"\"\n",
    "            answers.append(handler(event, context))\n",
    "        dataset[\"Response\"] = answers\n",
    "        dataset.to_csv(f\"generation_dataset_{model['model_name']}.csv\",\"|\")"
   ]
  },
  {
   "cell_type": "markdown",
   "id": "2f65d0aa-2edf-48db-863c-158164603169",
   "metadata": {},
   "source": [
    "## Batch eval prompt generation\n",
    "\n",
    "The following section simulates the prompt evaluation process. We will get a list of pre-defined evaluation questions/metrics and will run through the model outputs from the previous step and generate the evaluation results for each entry. Note that, in this case, we are accepting both single question and multiple questions to fulfill a particular test scenario, such as sanity check. This is because sometimes the evaluate topic might need to check against a list of evaluation criteria/questions and they may hold different weights/importance agains this evaluation topic. We assume the final metric is based on the weighted sum of all the evaluation questions for that topic. But you can also output the detailed answer for each question. \n",
    "\n",
    "The evaluation questions/queries are defined by the user based on the use case and can be also modified when implementing in different lambda functions."
   ]
  },
  {
   "cell_type": "code",
   "execution_count": 17,
   "id": "7c5dbf26-7a1e-4a76-8ccc-3e7ebc2f5f86",
   "metadata": {
    "scrolled": true,
    "tags": []
   },
   "outputs": [],
   "source": [
    "from metrics.survey import SurveyMetric\n",
    "from metrics.cosine import CosineMetric\n",
    "from prompts.template import PromptTemplate\n",
    "\n",
    "if __name__==\"__main__\":\n",
    "    p_template = PromptTemplate(\n",
    "        template=\"\"\"Human: The following is a conversation between a highly knowledgeable and intelligent AI assistant, called Assistant, and a Human user asking Questions. In the following interactions, Assistant will converse in natural language, and Assistant will answer the questions based only on the provided Context. Assistant will provide accurate, short and direct answers to the questions. Answer the below question based on the provided Context, Inquiry and Response.\n",
    "Context: {CONTEXT}\n",
    "Inquiry: {INQUIRY}\n",
    "Response: {RESPONSE}\n",
    "Question: {QUESTION}\n",
    "Assistant: \"\"\",\n",
    "        params=[\"CONTEXT\", \"INQUIRY\", \"RESPONSE\", \"QUESTION\"]\n",
    "    )\n",
    "    \n",
    "    prompt_template_database.add_template(\n",
    "        template_id=\"00002\",\n",
    "        template=p_template\n",
    "    )\n",
    "    \n",
    "    eval_model = {\n",
    "        \"model_family\": \"bedrock\",\n",
    "        \"model_name\": \"anthropic.claude-v2\"\n",
    "    }\n",
    "    \n",
    "    models = [\n",
    "        {\n",
    "            \"model_family\": \"bedrock\",\n",
    "            \"model_name\": \"amazon.titan-tg1-large\"\n",
    "        },\n",
    "        {\n",
    "            \"model_family\": \"bedrock\",\n",
    "            \"model_name\": \"anthropic.claude-v2\"\n",
    "        },\n",
    "        {\n",
    "            \"model_family\": \"bedrock\",\n",
    "            \"model_name\": \"ai21.j2-mid\"\n",
    "        }\n",
    "    ]\n",
    "    \n",
    "    QUESTIONS = [\n",
    "        {\n",
    "            \"Question\": \"Is the above response based solely on the provided context? Answer with Yes or No only.\",\n",
    "            \"Weight\": 20\n",
    "        },\n",
    "        {\n",
    "            \"Question\": \"Based solely on the provided context, is the above response accurately answers the Inquiry? Answer with Yes or No only.\",\n",
    "            \"Weight\": 20\n",
    "        },\n",
    "        {\n",
    "            \"Question\": \"Is the above response short, compact and direct? Answer with Yes or No only.\",\n",
    "            \"Weight\": 10\n",
    "        },\n",
    "        {\n",
    "            \"Question\": \"The above response does not have any words that can be removed without imapcting its meaning, is that true? Answer with Yes or No only.\",\n",
    "            \"Weight\": 10\n",
    "        },\n",
    "        {\n",
    "            \"Question\": \"Is the above response an answer or a question? Answer only with Yes if it is an answer or No if it is a question.\",\n",
    "            \"Weight\": 30\n",
    "        },\n",
    "        {\n",
    "            \"Question\": \"The above response does not mention the word `context` in reference to the above provided context, is that true? Answer with Yes or No only.\",\n",
    "            \"Weight\": 10\n",
    "        }\n",
    "    ]    \n",
    "    \n",
    "    metrics = [\n",
    "        {\n",
    "            \"metric_name\": \"Sanity Check\",\n",
    "            \"scoring_object\": SurveyMetric(\n",
    "                model_family=eval_model[\"model_family\"],\n",
    "                model_name=eval_model[\"model_name\"], \n",
    "                prompt_template=p_template,\n",
    "                questions=[QUESTIONS[0]]\n",
    "            )\n",
    "        },\n",
    "        {\n",
    "            \"metric_name\": \"Accuracy Check\",\n",
    "            \"scoring_object\": SurveyMetric(\n",
    "                model_family=eval_model[\"model_family\"],\n",
    "                model_name=eval_model[\"model_name\"], \n",
    "                prompt_template=p_template,\n",
    "                questions=[QUESTIONS[1]]\n",
    "            )\n",
    "        },\n",
    "        {\n",
    "            \"metric_name\": \"Compact Check\",\n",
    "            \"scoring_object\": SurveyMetric(\n",
    "                model_family=eval_model[\"model_family\"],\n",
    "                model_name=eval_model[\"model_name\"], \n",
    "                prompt_template=p_template,\n",
    "                questions=[QUESTIONS[2]]\n",
    "            )\n",
    "        },\n",
    "        {\n",
    "            \"metric_name\": \"Relvency Check\",\n",
    "            \"scoring_object\": SurveyMetric(\n",
    "                model_family=eval_model[\"model_family\"],\n",
    "                model_name=eval_model[\"model_name\"], \n",
    "                prompt_template=p_template,\n",
    "                questions=[QUESTIONS[3]]\n",
    "            )\n",
    "        },\n",
    "        {\n",
    "            \"metric_name\": \"Redundancy Check\",\n",
    "            \"scoring_object\": SurveyMetric(\n",
    "                model_family=eval_model[\"model_family\"],\n",
    "                model_name=eval_model[\"model_name\"], \n",
    "                prompt_template=p_template,\n",
    "                questions=[QUESTIONS[4]]\n",
    "            )\n",
    "        },\n",
    "        {\n",
    "            \"metric_name\": \"Form Check\",\n",
    "            \"scoring_object\": SurveyMetric(\n",
    "                model_family=eval_model[\"model_family\"],\n",
    "                model_name=eval_model[\"model_name\"], \n",
    "                prompt_template=p_template,\n",
    "                questions=[QUESTIONS[5]]\n",
    "            )\n",
    "        },\n",
    "        {\n",
    "            \"metric_name\": \"Repetition Check\",\n",
    "            \"scoring_object\": SurveyMetric(\n",
    "                model_family=eval_model[\"model_family\"],\n",
    "                model_name=eval_model[\"model_name\"], \n",
    "                prompt_template=p_template,\n",
    "                questions=[QUESTIONS[6]]\n",
    "            )\n",
    "        },\n",
    "        {\n",
    "            \"metric_name\": \"Weighted Score\",\n",
    "            \"scoring_object\": SurveyMetric(\n",
    "                model_family=eval_model[\"model_family\"],\n",
    "                model_name=eval_model[\"model_name\"], \n",
    "                prompt_template=p_template,\n",
    "                questions=QUESTIONS\n",
    "            )\n",
    "        },\n",
    "        {\n",
    "            \"metric_name\": \"Cosine Metric\",\n",
    "            \"scoring_object\": CosineMetric(\n",
    "                model_family=\"bedrock\",\n",
    "                model_name=\"amazon.titan-embed-g1-text-02\"\n",
    "            )\n",
    "        }\n",
    "    ]"
   ]
  },
  {
   "cell_type": "code",
   "execution_count": 23,
   "id": "b2166ac6-35ab-443b-93a4-1ef89fe765eb",
   "metadata": {
    "tags": []
   },
   "outputs": [],
   "source": [
    "    for model in models:\n",
    "        eval_data = []\n",
    "        dataset = pd.read_csv(f\"generation_dataset_{model['model_name']}.csv\", \"|\", usecols=[1,2,3,4,5])\n",
    "        for ind in dataset.index:\n",
    "            evals = []\n",
    "            for metric_ in metrics:\n",
    "                metric = metric_[\"scoring_object\"]\n",
    "                if isinstance(metric, SurveyMetric):\n",
    "                    param_values = {\n",
    "                        \"CONTEXT\": f\"{dataset['CONTEXT'][ind]}\",\n",
    "                        \"INQUIRY\": f\"{dataset['QUESTION'][ind]}\",\n",
    "                        \"RESPONSE\": f\"{dataset['Response'][ind]}\"\n",
    "                    }\n",
    "                if isinstance(metric, CosineMetric):\n",
    "                    param_values = {\n",
    "                        \"text1\": dataset[\"Response\"][ind],\n",
    "                        \"text2\": dataset[\"Expected Answer\"][ind]\n",
    "                    }\n",
    "                score = metric.score(param_values=param_values)\n",
    "                evals.append({\"Key\": metric_[\"metric_name\"], \"Value\": score})\n",
    "            eval_data.append(\n",
    "                {\n",
    "                    \"id\": dataset[\"id\"][ind],\n",
    "                    \"QUESTION\": dataset[\"QUESTION\"][ind],\n",
    "                    \"CONTEXT\": dataset[\"CONTEXT\"][ind],\n",
    "                    \"Expected Answer\": dataset[\"Expected Answer\"][ind],\n",
    "                    \"Response\": dataset[\"Response\"][ind],\n",
    "                    \"EVAL_MODEL\": f'{model[\"model_family\"]}~{model[\"model_name\"]}'                    \n",
    "                }\n",
    "            )\n",
    "            for _eval in evals:\n",
    "                eval_data[-1][_eval[\"Key\"]] = _eval[\"Value\"]\n",
    "        eval_dataset = pd.DataFrame(eval_data)\n",
    "        eval_dataset.to_csv(f\"evaluation_dataset_{model['model_name']}.csv\",\"|\")"
   ]
  },
  {
   "cell_type": "markdown",
   "id": "b473d6da-1771-4656-9ec1-f4ddc959add3",
   "metadata": {},
   "source": [
    "### Display the final output\n",
    "\n",
    "The following cells consolidate the evaluation output and demonstrate an example of visualising the LLM evaluation results."
   ]
  },
  {
   "cell_type": "code",
   "execution_count": null,
   "id": "84b21bdb-df22-4039-b0c1-c3a7a934149b",
   "metadata": {
    "tags": []
   },
   "outputs": [
    {
     "name": "stdout",
     "output_type": "stream",
     "text": [
      "\u001b[33mDEPRECATION: pyodbc 4.0.0-unsupported has a non-standard version number. pip 23.3 will enforce this behaviour change. A possible replacement is to upgrade to a newer version of pyodbc or contact the author to suggest that they release a version with a conforming version number. Discussion can be found at https://github.com/pypa/pip/issues/12063\u001b[0m\u001b[33m\n",
      "\u001b[0m"
     ]
    }
   ],
   "source": [
    "!pip install matplotlib --upgrade --quiet"
   ]
  },
  {
   "cell_type": "code",
   "execution_count": 24,
   "id": "b4b15296-cd4e-440f-968d-b6d8374e987e",
   "metadata": {
    "tags": []
   },
   "outputs": [
    {
     "data": {
      "image/png": "[encoded data removed]",
      "text/plain": [
       "<Figure size 640x480 with 1 Axes>"
      ]
     },
     "metadata": {},
     "output_type": "display_data"
    }
   ],
   "source": [
    "import matplotlib.pyplot as plt\n",
    "import numpy as np\n",
    "\n",
    "metrics_scores = {}\n",
    "model_names = []\n",
    "x_labels = [\"Total Score\"]\n",
    "metric_names = []\n",
    "for metric_ in metrics:\n",
    "    metric_names.append(metric_[\"metric_name\"])\n",
    "for model in models:\n",
    "    model_names.append(model[\"model_name\"])\n",
    "    dataset = pd.read_csv(f\"evaluation_dataset_{model['model_name']}.csv\", \"|\")\n",
    "    metrics_scores[model[\"model_name\"]] = [0]\n",
    "    for ind in dataset.index:\n",
    "        scores = 0\n",
    "        for metric_name in metric_names:\n",
    "            scores += dataset[metric_name][ind]\n",
    "        metrics_scores[model[\"model_name\"]][0] = scores\n",
    "\n",
    "\n",
    "x = np.arange(len(x_labels))  # the label locations\n",
    "width = 0.25  # the width of the bars\n",
    "multiplier = 0\n",
    "\n",
    "fig, ax = plt.subplots(layout='constrained')\n",
    "\n",
    "for attribute, measurement in metrics_scores.items():\n",
    "    offset = width * multiplier\n",
    "    rects = ax.bar(x + offset, measurement, width, label=attribute)\n",
    "    ax.bar_label(rects, padding=3, rotation=90)\n",
    "    multiplier += 1\n",
    "\n",
    "# Add some text for labels, title and custom x-axis tick labels, etc.\n",
    "ax.set_ylabel('Total Score')\n",
    "ax.set_title('Model total score')\n",
    "# ax.set_xticks(x + width, x_labels, rotation=70)\n",
    "ax.legend(loc='upper left')\n",
    "ax.set_ylim(0, 15)\n",
    "\n",
    "plt.show()"
   ]
  },
  {
   "cell_type": "code",
   "execution_count": 25,
   "id": "40493977-610b-4c11-8fea-24872898e290",
   "metadata": {
    "tags": []
   },
   "outputs": [
    {
     "data": {
      "image/png": "[encoded data removed]",
      "text/plain": [
       "<Figure size 640x480 with 1 Axes>"
      ]
     },
     "metadata": {},
     "output_type": "display_data"
    }
   ],
   "source": [
    "import matplotlib.pyplot as plt\n",
    "import numpy as np\n",
    "\n",
    "metrics_scores = {}\n",
    "model_names = []\n",
    "metric_names = []\n",
    "for metric_ in metrics:\n",
    "    metric_names.append(metric_[\"metric_name\"])\n",
    "for model in models:\n",
    "    model_names.append(model[\"model_name\"])\n",
    "    dataset = pd.read_csv(f\"evaluation_dataset_{model['model_name']}.csv\", \"|\")\n",
    "    metrics_scores[model[\"model_name\"]] = [0] * len(metric_names)\n",
    "    for ind in dataset.index:\n",
    "        scores = []\n",
    "        for metric_name in metric_names:\n",
    "            scores.append(dataset[metric_name][ind])\n",
    "        for i, score in enumerate(scores): \n",
    "            metrics_scores[model[\"model_name\"]][i] += score\n",
    "\n",
    "\n",
    "x = np.arange(len(metric_names))  # the label locations\n",
    "width = 0.25  # the width of the bars\n",
    "multiplier = 0\n",
    "\n",
    "fig, ax = plt.subplots(layout='constrained')\n",
    "\n",
    "for attribute, measurement in metrics_scores.items():\n",
    "    offset = width * multiplier\n",
    "    rects = ax.bar(x + offset, measurement, width, label=attribute)\n",
    "    ax.bar_label(rects, padding=3, rotation=90)\n",
    "    multiplier += 1\n",
    "\n",
    "# Add some text for labels, title and custom x-axis tick labels, etc.\n",
    "ax.set_ylabel('Score')\n",
    "ax.set_title('Model score by metric')\n",
    "ax.set_xticks(x + width, metric_names, rotation=70)\n",
    "ax.legend(loc='upper left')\n",
    "ax.set_ylim(0, 15)\n",
    "\n",
    "plt.show()"
   ]
  },
  {
   "cell_type": "code",
   "execution_count": null,
   "id": "5b34101a-b311-45f8-9b03-2ad5263e263c",
   "metadata": {},
   "outputs": [],
   "source": []
  }
 ],
 "metadata": {
  "availableInstances": [
   {
    "_defaultOrder": 0,
    "_isFastLaunch": true,
    "category": "General purpose",
    "gpuNum": 0,
    "hideHardwareSpecs": false,
    "memoryGiB": 4,
    "name": "ml.t3.medium",
    "vcpuNum": 2
   },
   {
    "_defaultOrder": 1,
    "_isFastLaunch": false,
    "category": "General purpose",
    "gpuNum": 0,
    "hideHardwareSpecs": false,
    "memoryGiB": 8,
    "name": "ml.t3.large",
    "vcpuNum": 2
   },
   {
    "_defaultOrder": 2,
    "_isFastLaunch": false,
    "category": "General purpose",
    "gpuNum": 0,
    "hideHardwareSpecs": false,
    "memoryGiB": 16,
    "name": "ml.t3.xlarge",
    "vcpuNum": 4
   },
   {
    "_defaultOrder": 3,
    "_isFastLaunch": false,
    "category": "General purpose",
    "gpuNum": 0,
    "hideHardwareSpecs": false,
    "memoryGiB": 32,
    "name": "ml.t3.2xlarge",
    "vcpuNum": 8
   },
   {
    "_defaultOrder": 4,
    "_isFastLaunch": true,
    "category": "General purpose",
    "gpuNum": 0,
    "hideHardwareSpecs": false,
    "memoryGiB": 8,
    "name": "ml.m5.large",
    "vcpuNum": 2
   },
   {
    "_defaultOrder": 5,
    "_isFastLaunch": false,
    "category": "General purpose",
    "gpuNum": 0,
    "hideHardwareSpecs": false,
    "memoryGiB": 16,
    "name": "ml.m5.xlarge",
    "vcpuNum": 4
   },
   {
    "_defaultOrder": 6,
    "_isFastLaunch": false,
    "category": "General purpose",
    "gpuNum": 0,
    "hideHardwareSpecs": false,
    "memoryGiB": 32,
    "name": "ml.m5.2xlarge",
    "vcpuNum": 8
   },
   {
    "_defaultOrder": 7,
    "_isFastLaunch": false,
    "category": "General purpose",
    "gpuNum": 0,
    "hideHardwareSpecs": false,
    "memoryGiB": 64,
    "name": "ml.m5.4xlarge",
    "vcpuNum": 16
   },
   {
    "_defaultOrder": 8,
    "_isFastLaunch": false,
    "category": "General purpose",
    "gpuNum": 0,
    "hideHardwareSpecs": false,
    "memoryGiB": 128,
    "name": "ml.m5.8xlarge",
    "vcpuNum": 32
   },
   {
    "_defaultOrder": 9,
    "_isFastLaunch": false,
    "category": "General purpose",
    "gpuNum": 0,
    "hideHardwareSpecs": false,
    "memoryGiB": 192,
    "name": "ml.m5.12xlarge",
    "vcpuNum": 48
   },
   {
    "_defaultOrder": 10,
    "_isFastLaunch": false,
    "category": "General purpose",
    "gpuNum": 0,
    "hideHardwareSpecs": false,
    "memoryGiB": 256,
    "name": "ml.m5.16xlarge",
    "vcpuNum": 64
   },
   {
    "_defaultOrder": 11,
    "_isFastLaunch": false,
    "category": "General purpose",
    "gpuNum": 0,
    "hideHardwareSpecs": false,
    "memoryGiB": 384,
    "name": "ml.m5.24xlarge",
    "vcpuNum": 96
   },
   {
    "_defaultOrder": 12,
    "_isFastLaunch": false,
    "category": "General purpose",
    "gpuNum": 0,
    "hideHardwareSpecs": false,
    "memoryGiB": 8,
    "name": "ml.m5d.large",
    "vcpuNum": 2
   },
   {
    "_defaultOrder": 13,
    "_isFastLaunch": false,
    "category": "General purpose",
    "gpuNum": 0,
    "hideHardwareSpecs": false,
    "memoryGiB": 16,
    "name": "ml.m5d.xlarge",
    "vcpuNum": 4
   },
   {
    "_defaultOrder": 14,
    "_isFastLaunch": false,
    "category": "General purpose",
    "gpuNum": 0,
    "hideHardwareSpecs": false,
    "memoryGiB": 32,
    "name": "ml.m5d.2xlarge",
    "vcpuNum": 8
   },
   {
    "_defaultOrder": 15,
    "_isFastLaunch": false,
    "category": "General purpose",
    "gpuNum": 0,
    "hideHardwareSpecs": false,
    "memoryGiB": 64,
    "name": "ml.m5d.4xlarge",
    "vcpuNum": 16
   },
   {
    "_defaultOrder": 16,
    "_isFastLaunch": false,
    "category": "General purpose",
    "gpuNum": 0,
    "hideHardwareSpecs": false,
    "memoryGiB": 128,
    "name": "ml.m5d.8xlarge",
    "vcpuNum": 32
   },
   {
    "_defaultOrder": 17,
    "_isFastLaunch": false,
    "category": "General purpose",
    "gpuNum": 0,
    "hideHardwareSpecs": false,
    "memoryGiB": 192,
    "name": "ml.m5d.12xlarge",
    "vcpuNum": 48
   },
   {
    "_defaultOrder": 18,
    "_isFastLaunch": false,
    "category": "General purpose",
    "gpuNum": 0,
    "hideHardwareSpecs": false,
    "memoryGiB": 256,
    "name": "ml.m5d.16xlarge",
    "vcpuNum": 64
   },
   {
    "_defaultOrder": 19,
    "_isFastLaunch": false,
    "category": "General purpose",
    "gpuNum": 0,
    "hideHardwareSpecs": false,
    "memoryGiB": 384,
    "name": "ml.m5d.24xlarge",
    "vcpuNum": 96
   },
   {
    "_defaultOrder": 20,
    "_isFastLaunch": false,
    "category": "General purpose",
    "gpuNum": 0,
    "hideHardwareSpecs": true,
    "memoryGiB": 0,
    "name": "ml.geospatial.interactive",
    "supportedImageNames": [
     "sagemaker-geospatial-v1-0"
    ],
    "vcpuNum": 0
   },
   {
    "_defaultOrder": 21,
    "_isFastLaunch": true,
    "category": "Compute optimized",
    "gpuNum": 0,
    "hideHardwareSpecs": false,
    "memoryGiB": 4,
    "name": "ml.c5.large",
    "vcpuNum": 2
   },
   {
    "_defaultOrder": 22,
    "_isFastLaunch": false,
    "category": "Compute optimized",
    "gpuNum": 0,
    "hideHardwareSpecs": false,
    "memoryGiB": 8,
    "name": "ml.c5.xlarge",
    "vcpuNum": 4
   },
   {
    "_defaultOrder": 23,
    "_isFastLaunch": false,
    "category": "Compute optimized",
    "gpuNum": 0,
    "hideHardwareSpecs": false,
    "memoryGiB": 16,
    "name": "ml.c5.2xlarge",
    "vcpuNum": 8
   },
   {
    "_defaultOrder": 24,
    "_isFastLaunch": false,
    "category": "Compute optimized",
    "gpuNum": 0,
    "hideHardwareSpecs": false,
    "memoryGiB": 32,
    "name": "ml.c5.4xlarge",
    "vcpuNum": 16
   },
   {
    "_defaultOrder": 25,
    "_isFastLaunch": false,
    "category": "Compute optimized",
    "gpuNum": 0,
    "hideHardwareSpecs": false,
    "memoryGiB": 72,
    "name": "ml.c5.9xlarge",
    "vcpuNum": 36
   },
   {
    "_defaultOrder": 26,
    "_isFastLaunch": false,
    "category": "Compute optimized",
    "gpuNum": 0,
    "hideHardwareSpecs": false,
    "memoryGiB": 96,
    "name": "ml.c5.12xlarge",
    "vcpuNum": 48
   },
   {
    "_defaultOrder": 27,
    "_isFastLaunch": false,
    "category": "Compute optimized",
    "gpuNum": 0,
    "hideHardwareSpecs": false,
    "memoryGiB": 144,
    "name": "ml.c5.18xlarge",
    "vcpuNum": 72
   },
   {
    "_defaultOrder": 28,
    "_isFastLaunch": false,
    "category": "Compute optimized",
    "gpuNum": 0,
    "hideHardwareSpecs": false,
    "memoryGiB": 192,
    "name": "ml.c5.24xlarge",
    "vcpuNum": 96
   },
   {
    "_defaultOrder": 29,
    "_isFastLaunch": true,
    "category": "Accelerated computing",
    "gpuNum": 1,
    "hideHardwareSpecs": false,
    "memoryGiB": 16,
    "name": "ml.g4dn.xlarge",
    "vcpuNum": 4
   },
   {
    "_defaultOrder": 30,
    "_isFastLaunch": false,
    "category": "Accelerated computing",
    "gpuNum": 1,
    "hideHardwareSpecs": false,
    "memoryGiB": 32,
    "name": "ml.g4dn.2xlarge",
    "vcpuNum": 8
   },
   {
    "_defaultOrder": 31,
    "_isFastLaunch": false,
    "category": "Accelerated computing",
    "gpuNum": 1,
    "hideHardwareSpecs": false,
    "memoryGiB": 64,
    "name": "ml.g4dn.4xlarge",
    "vcpuNum": 16
   },
   {
    "_defaultOrder": 32,
    "_isFastLaunch": false,
    "category": "Accelerated computing",
    "gpuNum": 1,
    "hideHardwareSpecs": false,
    "memoryGiB": 128,
    "name": "ml.g4dn.8xlarge",
    "vcpuNum": 32
   },
   {
    "_defaultOrder": 33,
    "_isFastLaunch": false,
    "category": "Accelerated computing",
    "gpuNum": 4,
    "hideHardwareSpecs": false,
    "memoryGiB": 192,
    "name": "ml.g4dn.12xlarge",
    "vcpuNum": 48
   },
   {
    "_defaultOrder": 34,
    "_isFastLaunch": false,
    "category": "Accelerated computing",
    "gpuNum": 1,
    "hideHardwareSpecs": false,
    "memoryGiB": 256,
    "name": "ml.g4dn.16xlarge",
    "vcpuNum": 64
   },
   {
    "_defaultOrder": 35,
    "_isFastLaunch": false,
    "category": "Accelerated computing",
    "gpuNum": 1,
    "hideHardwareSpecs": false,
    "memoryGiB": 61,
    "name": "ml.p3.2xlarge",
    "vcpuNum": 8
   },
   {
    "_defaultOrder": 36,
    "_isFastLaunch": false,
    "category": "Accelerated computing",
    "gpuNum": 4,
    "hideHardwareSpecs": false,
    "memoryGiB": 244,
    "name": "ml.p3.8xlarge",
    "vcpuNum": 32
   },
   {
    "_defaultOrder": 37,
    "_isFastLaunch": false,
    "category": "Accelerated computing",
    "gpuNum": 8,
    "hideHardwareSpecs": false,
    "memoryGiB": 488,
    "name": "ml.p3.16xlarge",
    "vcpuNum": 64
   },
   {
    "_defaultOrder": 38,
    "_isFastLaunch": false,
    "category": "Accelerated computing",
    "gpuNum": 8,
    "hideHardwareSpecs": false,
    "memoryGiB": 768,
    "name": "ml.p3dn.24xlarge",
    "vcpuNum": 96
   },
   {
    "_defaultOrder": 39,
    "_isFastLaunch": false,
    "category": "Memory Optimized",
    "gpuNum": 0,
    "hideHardwareSpecs": false,
    "memoryGiB": 16,
    "name": "ml.r5.large",
    "vcpuNum": 2
   },
   {
    "_defaultOrder": 40,
    "_isFastLaunch": false,
    "category": "Memory Optimized",
    "gpuNum": 0,
    "hideHardwareSpecs": false,
    "memoryGiB": 32,
    "name": "ml.r5.xlarge",
    "vcpuNum": 4
   },
   {
    "_defaultOrder": 41,
    "_isFastLaunch": false,
    "category": "Memory Optimized",
    "gpuNum": 0,
    "hideHardwareSpecs": false,
    "memoryGiB": 64,
    "name": "ml.r5.2xlarge",
    "vcpuNum": 8
   },
   {
    "_defaultOrder": 42,
    "_isFastLaunch": false,
    "category": "Memory Optimized",
    "gpuNum": 0,
    "hideHardwareSpecs": false,
    "memoryGiB": 128,
    "name": "ml.r5.4xlarge",
    "vcpuNum": 16
   },
   {
    "_defaultOrder": 43,
    "_isFastLaunch": false,
    "category": "Memory Optimized",
    "gpuNum": 0,
    "hideHardwareSpecs": false,
    "memoryGiB": 256,
    "name": "ml.r5.8xlarge",
    "vcpuNum": 32
   },
   {
    "_defaultOrder": 44,
    "_isFastLaunch": false,
    "category": "Memory Optimized",
    "gpuNum": 0,
    "hideHardwareSpecs": false,
    "memoryGiB": 384,
    "name": "ml.r5.12xlarge",
    "vcpuNum": 48
   },
   {
    "_defaultOrder": 45,
    "_isFastLaunch": false,
    "category": "Memory Optimized",
    "gpuNum": 0,
    "hideHardwareSpecs": false,
    "memoryGiB": 512,
    "name": "ml.r5.16xlarge",
    "vcpuNum": 64
   },
   {
    "_defaultOrder": 46,
    "_isFastLaunch": false,
    "category": "Memory Optimized",
    "gpuNum": 0,
    "hideHardwareSpecs": false,
    "memoryGiB": 768,
    "name": "ml.r5.24xlarge",
    "vcpuNum": 96
   },
   {
    "_defaultOrder": 47,
    "_isFastLaunch": false,
    "category": "Accelerated computing",
    "gpuNum": 1,
    "hideHardwareSpecs": false,
    "memoryGiB": 16,
    "name": "ml.g5.xlarge",
    "vcpuNum": 4
   },
   {
    "_defaultOrder": 48,
    "_isFastLaunch": false,
    "category": "Accelerated computing",
    "gpuNum": 1,
    "hideHardwareSpecs": false,
    "memoryGiB": 32,
    "name": "ml.g5.2xlarge",
    "vcpuNum": 8
   },
   {
    "_defaultOrder": 49,
    "_isFastLaunch": false,
    "category": "Accelerated computing",
    "gpuNum": 1,
    "hideHardwareSpecs": false,
    "memoryGiB": 64,
    "name": "ml.g5.4xlarge",
    "vcpuNum": 16
   },
   {
    "_defaultOrder": 50,
    "_isFastLaunch": false,
    "category": "Accelerated computing",
    "gpuNum": 1,
    "hideHardwareSpecs": false,
    "memoryGiB": 128,
    "name": "ml.g5.8xlarge",
    "vcpuNum": 32
   },
   {
    "_defaultOrder": 51,
    "_isFastLaunch": false,
    "category": "Accelerated computing",
    "gpuNum": 1,
    "hideHardwareSpecs": false,
    "memoryGiB": 256,
    "name": "ml.g5.16xlarge",
    "vcpuNum": 64
   },
   {
    "_defaultOrder": 52,
    "_isFastLaunch": false,
    "category": "Accelerated computing",
    "gpuNum": 4,
    "hideHardwareSpecs": false,
    "memoryGiB": 192,
    "name": "ml.g5.12xlarge",
    "vcpuNum": 48
   },
   {
    "_defaultOrder": 53,
    "_isFastLaunch": false,
    "category": "Accelerated computing",
    "gpuNum": 4,
    "hideHardwareSpecs": false,
    "memoryGiB": 384,
    "name": "ml.g5.24xlarge",
    "vcpuNum": 96
   },
   {
    "_defaultOrder": 54,
    "_isFastLaunch": false,
    "category": "Accelerated computing",
    "gpuNum": 8,
    "hideHardwareSpecs": false,
    "memoryGiB": 768,
    "name": "ml.g5.48xlarge",
    "vcpuNum": 192
   },
   {
    "_defaultOrder": 55,
    "_isFastLaunch": false,
    "category": "Accelerated computing",
    "gpuNum": 8,
    "hideHardwareSpecs": false,
    "memoryGiB": 1152,
    "name": "ml.p4d.24xlarge",
    "vcpuNum": 96
   },
   {
    "_defaultOrder": 56,
    "_isFastLaunch": false,
    "category": "Accelerated computing",
    "gpuNum": 8,
    "hideHardwareSpecs": false,
    "memoryGiB": 1152,
    "name": "ml.p4de.24xlarge",
    "vcpuNum": 96
   }
  ],
  "instance_type": "ml.t3.medium",
  "kernelspec": {
   "display_name": "Python 3 (Data Science 3.0)",
   "language": "python",
   "name": "python3__SAGEMAKER_INTERNAL__arn:aws:sagemaker:us-east-1:081325390199:image/sagemaker-data-science-310-v1"
  },
  "language_info": {
   "codemirror_mode": {
    "name": "ipython",
    "version": 3
   },
   "file_extension": ".py",
   "mimetype": "text/x-python",
   "name": "python",
   "nbconvert_exporter": "python",
   "pygments_lexer": "ipython3",
   "version": "3.10.6"
  }
 },
 "nbformat": 4,
 "nbformat_minor": 5
}
